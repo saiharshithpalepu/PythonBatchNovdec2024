{
 "cells": [
  {
   "cell_type": "markdown",
   "metadata": {},
   "source": [
    "### Print function usage"
   ]
  },
  {
   "cell_type": "markdown",
   "metadata": {},
   "source": [
    "### esc+n to execute"
   ]
  },
  {
   "cell_type": "code",
   "execution_count": 1,
   "metadata": {},
   "outputs": [
    {
     "name": "stdout",
     "output_type": "stream",
     "text": [
      "Python;language;12345\tsimple\n"
     ]
    }
   ],
   "source": [
    "print(\"Python\", \"language\" , 12345, end=\"\\t\", sep=\";\")\n",
    "print(\"simple\")"
   ]
  },
  {
   "cell_type": "code",
   "execution_count": 2,
   "metadata": {},
   "outputs": [
    {
     "name": "stdout",
     "output_type": "stream",
     "text": [
      "Pytho\n"
     ]
    }
   ],
   "source": [
    "print(\"Python\\b\")"
   ]
  },
  {
   "cell_type": "code",
   "execution_count": 3,
   "metadata": {},
   "outputs": [
    {
     "name": "stdout",
     "output_type": "stream",
     "text": [
      "\bPython\n"
     ]
    }
   ],
   "source": [
    "print(\"\\bPython\")"
   ]
  },
  {
   "cell_type": "code",
   "execution_count": 4,
   "metadata": {},
   "outputs": [
    {
     "data": {
      "text/plain": [
       "'\\x08Python'"
      ]
     },
     "execution_count": 4,
     "metadata": {},
     "output_type": "execute_result"
    }
   ],
   "source": [
    "'\\bPython'"
   ]
  },
  {
   "cell_type": "code",
   "execution_count": null,
   "metadata": {},
   "outputs": [
    {
     "name": "stdout",
     "output_type": "stream",
     "text": [
      "ie\n",
      "654\n",
      "two\n",
      "12345f\n",
      "Apple4\n"
     ]
    }
   ],
   "source": [
    "# \\r - overwrites complete existing line\n",
    "print(\"He\\ri\")\n",
    "print(\"987\\r654\")\n",
    "print(\"one\\rtwo\")\n",
    "print(\"abcdef\\r12345\")\n",
    "print(\"987654\\rApple\")\n",
    "# \\r means moves to the start"
   ]
  },
  {
   "cell_type": "code",
   "execution_count": 7,
   "metadata": {},
   "outputs": [
    {
     "name": "stdout",
     "output_type": "stream",
     "text": [
      "₹\n",
      "Ǝ\n",
      "&\n"
     ]
    }
   ],
   "source": [
    "# unicode characters \\uXXX - unicode character\n",
    "print(\"\\u20B9\") # ₹  --unicode\n",
    "print(\"\\u018e\") # Ǝ --unicode\n",
    "print(\"\\046\") # & --Ascii"
   ]
  },
  {
   "cell_type": "code",
   "execution_count": 8,
   "metadata": {},
   "outputs": [
    {
     "name": "stdout",
     "output_type": "stream",
     "text": [
      "$\n",
      "ñ\n"
     ]
    }
   ],
   "source": [
    "# \\X... -Hexadecimal number\n",
    "print(\"\\x24\")\n",
    "print(\"\\xf1\")"
   ]
  },
  {
   "cell_type": "code",
   "execution_count": 9,
   "metadata": {},
   "outputs": [
    {
     "name": "stdout",
     "output_type": "stream",
     "text": [
      "#$*&^(*;\n"
     ]
    }
   ],
   "source": [
    "#notations\n",
    "print(\"#$*&^(*;\")"
   ]
  }
 ],
 "metadata": {
  "kernelspec": {
   "display_name": "Python 3",
   "language": "python",
   "name": "python3"
  },
  "language_info": {
   "codemirror_mode": {
    "name": "ipython",
    "version": 3
   },
   "file_extension": ".py",
   "mimetype": "text/x-python",
   "name": "python",
   "nbconvert_exporter": "python",
   "pygments_lexer": "ipython3",
   "version": "3.12.1"
  }
 },
 "nbformat": 4,
 "nbformat_minor": 2
}
